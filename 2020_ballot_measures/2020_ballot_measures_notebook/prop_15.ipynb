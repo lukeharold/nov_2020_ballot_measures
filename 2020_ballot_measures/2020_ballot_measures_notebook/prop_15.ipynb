{
 "cells": [
  {
   "cell_type": "markdown",
   "metadata": {},
   "source": [
    "## Campaign contributions for and against Proposition 15, California's November 2020 ballot measure to reform part of Prop. 13\n",
    "\n",
    "By Luke Harold\n",
    "\n",
    "*** current as of Sept. 26, 2020\n",
    "\n",
    "## As of Sept. 17, not all committees formed have received contributions"
   ]
  },
  {
   "cell_type": "markdown",
   "metadata": {},
   "source": [
    "## media coverage so far:\n",
    "\n",
    "https://www.courthousenews.com/backers-of-revision-to-proposition-13-turn-in-1-7-million-california-voter-signatures/\n",
    "\n",
    "https://calmatters.org/economy/2018/08/prop-13-could-be-party-undone-in-2020-heres-what-you-should-know/\n",
    "\n",
    "https://www.kqed.org/news/11823522/will-california-voters-support-new-taxes-to-avoid-painful-budget-cuts\n",
    "    "
   ]
  },
  {
   "cell_type": "code",
   "execution_count": 1,
   "metadata": {},
   "outputs": [],
   "source": [
    "import pandas as pd"
   ]
  },
  {
   "cell_type": "code",
   "execution_count": 2,
   "metadata": {},
   "outputs": [
    {
     "name": "stdout",
     "output_type": "stream",
     "text": [
      "Requirement already satisfied: altair in /Users/lukeharold/.local/share/virtualenvs/2020_ballot_measures-CjUSjjuI/lib/python3.8/site-packages (4.1.0)\n",
      "Requirement already satisfied: toolz in /Users/lukeharold/.local/share/virtualenvs/2020_ballot_measures-CjUSjjuI/lib/python3.8/site-packages (from altair) (0.10.0)\n",
      "Requirement already satisfied: numpy in /Users/lukeharold/.local/share/virtualenvs/2020_ballot_measures-CjUSjjuI/lib/python3.8/site-packages (from altair) (1.19.2)\n",
      "Requirement already satisfied: pandas>=0.18 in /Users/lukeharold/.local/share/virtualenvs/2020_ballot_measures-CjUSjjuI/lib/python3.8/site-packages (from altair) (1.1.2)\n",
      "Requirement already satisfied: jinja2 in /Users/lukeharold/.local/share/virtualenvs/2020_ballot_measures-CjUSjjuI/lib/python3.8/site-packages (from altair) (2.11.2)\n",
      "Requirement already satisfied: entrypoints in /Users/lukeharold/.local/share/virtualenvs/2020_ballot_measures-CjUSjjuI/lib/python3.8/site-packages (from altair) (0.3)\n",
      "Requirement already satisfied: jsonschema in /Users/lukeharold/.local/share/virtualenvs/2020_ballot_measures-CjUSjjuI/lib/python3.8/site-packages (from altair) (3.2.0)\n",
      "Requirement already satisfied: python-dateutil>=2.7.3 in /Users/lukeharold/.local/share/virtualenvs/2020_ballot_measures-CjUSjjuI/lib/python3.8/site-packages (from pandas>=0.18->altair) (2.8.1)\n",
      "Requirement already satisfied: pytz>=2017.2 in /Users/lukeharold/.local/share/virtualenvs/2020_ballot_measures-CjUSjjuI/lib/python3.8/site-packages (from pandas>=0.18->altair) (2020.1)\n",
      "Requirement already satisfied: MarkupSafe>=0.23 in /Users/lukeharold/.local/share/virtualenvs/2020_ballot_measures-CjUSjjuI/lib/python3.8/site-packages (from jinja2->altair) (1.1.1)\n",
      "Requirement already satisfied: six>=1.11.0 in /Users/lukeharold/.local/share/virtualenvs/2020_ballot_measures-CjUSjjuI/lib/python3.8/site-packages (from jsonschema->altair) (1.15.0)\n",
      "Requirement already satisfied: pyrsistent>=0.14.0 in /Users/lukeharold/.local/share/virtualenvs/2020_ballot_measures-CjUSjjuI/lib/python3.8/site-packages (from jsonschema->altair) (0.17.3)\n",
      "Requirement already satisfied: setuptools in /Users/lukeharold/.local/share/virtualenvs/2020_ballot_measures-CjUSjjuI/lib/python3.8/site-packages (from jsonschema->altair) (49.2.1)\n",
      "Requirement already satisfied: attrs>=17.4.0 in /Users/lukeharold/.local/share/virtualenvs/2020_ballot_measures-CjUSjjuI/lib/python3.8/site-packages (from jsonschema->altair) (20.2.0)\n",
      "Note: you may need to restart the kernel to use updated packages.\n"
     ]
    }
   ],
   "source": [
    "pip install altair"
   ]
  },
  {
   "cell_type": "code",
   "execution_count": 3,
   "metadata": {},
   "outputs": [],
   "source": [
    "import altair as alt"
   ]
  },
  {
   "cell_type": "code",
   "execution_count": 4,
   "metadata": {},
   "outputs": [],
   "source": [
    "committee_1 = pd.read_csv(\"tax_reform_1.csv\")"
   ]
  },
  {
   "cell_type": "code",
   "execution_count": 5,
   "metadata": {},
   "outputs": [],
   "source": [
    "committee_2 = pd.read_csv(\"tax_reform_2.csv\")"
   ]
  },
  {
   "cell_type": "code",
   "execution_count": 6,
   "metadata": {},
   "outputs": [],
   "source": [
    "committee_3 = pd.read_csv(\"tax_reform_3.csv\")"
   ]
  },
  {
   "cell_type": "code",
   "execution_count": 7,
   "metadata": {},
   "outputs": [],
   "source": [
    "committee_4 = pd.read_csv(\"tax_reform_4.csv\")"
   ]
  },
  {
   "cell_type": "code",
   "execution_count": 8,
   "metadata": {},
   "outputs": [],
   "source": [
    "committee_5 = pd.read_csv(\"tax_reform_5.csv\")"
   ]
  },
  {
   "cell_type": "code",
   "execution_count": 9,
   "metadata": {},
   "outputs": [],
   "source": [
    "committee_6 = pd.read_csv(\"tax_reform_6.csv\")"
   ]
  },
  {
   "cell_type": "code",
   "execution_count": 10,
   "metadata": {},
   "outputs": [],
   "source": [
    "committee_7 = pd.read_csv(\"tax_reform_7.csv\")"
   ]
  },
  {
   "cell_type": "code",
   "execution_count": 11,
   "metadata": {},
   "outputs": [],
   "source": [
    "committee_8 = pd.read_csv(\"tax_reform_8.csv\")"
   ]
  },
  {
   "cell_type": "code",
   "execution_count": 12,
   "metadata": {},
   "outputs": [],
   "source": [
    "committee_9 = pd.read_csv(\"tax_reform_9.csv\")"
   ]
  },
  {
   "cell_type": "code",
   "execution_count": 13,
   "metadata": {},
   "outputs": [],
   "source": [
    "committee_10 = pd.read_csv(\"tax_reform_10.csv\")"
   ]
  },
  {
   "cell_type": "code",
   "execution_count": 14,
   "metadata": {},
   "outputs": [],
   "source": [
    "committee_11 = pd.read_csv(\"tax_reform_11.csv\")"
   ]
  },
  {
   "cell_type": "code",
   "execution_count": 15,
   "metadata": {},
   "outputs": [],
   "source": [
    "committee_12 = pd.read_csv(\"tax_reform_12.csv\")"
   ]
  },
  {
   "cell_type": "code",
   "execution_count": 16,
   "metadata": {},
   "outputs": [],
   "source": [
    "committee_13 = pd.read_csv(\"tax_reform_13.csv\")"
   ]
  },
  {
   "cell_type": "code",
   "execution_count": 17,
   "metadata": {},
   "outputs": [],
   "source": [
    "committee_14 = pd.read_csv(\"tax_reform_14.csv\")"
   ]
  },
  {
   "cell_type": "code",
   "execution_count": 18,
   "metadata": {},
   "outputs": [],
   "source": [
    "committee_15 = pd.read_csv(\"tax_reform_15.csv\")"
   ]
  },
  {
   "cell_type": "code",
   "execution_count": 19,
   "metadata": {},
   "outputs": [],
   "source": [
    "committee_16 = pd.read_csv(\"tax_reform_16.csv\")"
   ]
  },
  {
   "cell_type": "code",
   "execution_count": 20,
   "metadata": {},
   "outputs": [],
   "source": [
    "committee_17 = pd.read_csv(\"tax_reform_17.csv\")"
   ]
  },
  {
   "cell_type": "code",
   "execution_count": 21,
   "metadata": {},
   "outputs": [],
   "source": [
    "committee_18 = pd.read_csv(\"tax_reform_18.csv\")"
   ]
  },
  {
   "cell_type": "code",
   "execution_count": 22,
   "metadata": {},
   "outputs": [],
   "source": [
    "contribs = pd.concat([committee_1, committee_2, committee_3, committee_4, committee_5, committee_6, committee_7, committee_8, committee_9, committee_10, committee_11, committee_12, committee_13, committee_14, committee_15, committee_16, committee_17, committee_18], sort=True)"
   ]
  },
  {
   "cell_type": "code",
   "execution_count": 23,
   "metadata": {},
   "outputs": [],
   "source": [
    "## total raised by committees representing both sides"
   ]
  },
  {
   "cell_type": "code",
   "execution_count": 24,
   "metadata": {},
   "outputs": [
    {
     "data": {
      "text/plain": [
       "position\n",
       "oppose     28346883\n",
       "support    39080470\n",
       "Name: amount, dtype: int64"
      ]
     },
     "execution_count": 24,
     "metadata": {},
     "output_type": "execute_result"
    }
   ],
   "source": [
    "contribs.groupby(\"position\").amount.sum()"
   ]
  },
  {
   "cell_type": "code",
   "execution_count": 25,
   "metadata": {},
   "outputs": [],
   "source": [
    "## average contribution"
   ]
  },
  {
   "cell_type": "code",
   "execution_count": 26,
   "metadata": {},
   "outputs": [
    {
     "data": {
      "text/plain": [
       "position\n",
       "oppose      4870.598454\n",
       "support    28034.770445\n",
       "Name: amount, dtype: float64"
      ]
     },
     "execution_count": 26,
     "metadata": {},
     "output_type": "execute_result"
    }
   ],
   "source": [
    "contribs.groupby(\"position\").amount.mean()"
   ]
  },
  {
   "cell_type": "code",
   "execution_count": 27,
   "metadata": {},
   "outputs": [],
   "source": [
    "## Number of individual donors for and against: "
   ]
  },
  {
   "cell_type": "code",
   "execution_count": 28,
   "metadata": {},
   "outputs": [],
   "source": [
    "supporters = contribs[contribs.position == \"support\"]"
   ]
  },
  {
   "cell_type": "code",
   "execution_count": 29,
   "metadata": {},
   "outputs": [],
   "source": [
    "opponents = contribs[contribs.position == \"oppose\"]"
   ]
  },
  {
   "cell_type": "code",
   "execution_count": 30,
   "metadata": {},
   "outputs": [
    {
     "data": {
      "text/plain": [
       "RETIRED                3208\n",
       "FARMER                  229\n",
       "RANCHER                  65\n",
       "BUSINESS OWNER           43\n",
       "REAL ESTATE              35\n",
       "                       ... \n",
       "TICKET TAKER              1\n",
       "SECURITY SUPERVISOR       1\n",
       "DR                        1\n",
       "CEO, CHAIRMAN             1\n",
       "SALES ASSOCIATE           1\n",
       "Name: occupation, Length: 357, dtype: int64"
      ]
     },
     "execution_count": 30,
     "metadata": {},
     "output_type": "execute_result"
    }
   ],
   "source": [
    "opponents.occupation.value_counts()"
   ]
  },
  {
   "cell_type": "code",
   "execution_count": 63,
   "metadata": {},
   "outputs": [
    {
     "data": {
      "text/plain": [
       "NOT-EMPLOYED                    274\n",
       "RETIRED                          72\n",
       "TEACHER                          46\n",
       "CONSULTANT                       37\n",
       "LAWYER                           34\n",
       "                               ... \n",
       "ANALYST                           1\n",
       "GRANTS AND CONTRACTS ANALYST      1\n",
       "REAL ESTATE BROKER                1\n",
       "ASSISTANT                         1\n",
       "POLITICAL COORDINATOR             1\n",
       "Name: occupation, Length: 195, dtype: int64"
      ]
     },
     "execution_count": 63,
     "metadata": {},
     "output_type": "execute_result"
    }
   ],
   "source": [
    "supporters.occupation.value_counts()"
   ]
  },
  {
   "cell_type": "code",
   "execution_count": 31,
   "metadata": {},
   "outputs": [],
   "source": [
    "top_opponents = opponents.groupby(\"name_of_contributor\").amount.sum().reset_index()"
   ]
  },
  {
   "cell_type": "code",
   "execution_count": 32,
   "metadata": {},
   "outputs": [],
   "source": [
    "top_supporters = supporters.groupby(\"name_of_contributor\").amount.sum().reset_index()"
   ]
  },
  {
   "cell_type": "code",
   "execution_count": 33,
   "metadata": {},
   "outputs": [
    {
     "data": {
      "text/html": [
       "<div>\n",
       "<style scoped>\n",
       "    .dataframe tbody tr th:only-of-type {\n",
       "        vertical-align: middle;\n",
       "    }\n",
       "\n",
       "    .dataframe tbody tr th {\n",
       "        vertical-align: top;\n",
       "    }\n",
       "\n",
       "    .dataframe thead th {\n",
       "        text-align: right;\n",
       "    }\n",
       "</style>\n",
       "<table border=\"1\" class=\"dataframe\">\n",
       "  <thead>\n",
       "    <tr style=\"text-align: right;\">\n",
       "      <th></th>\n",
       "      <th>name_of_contributor</th>\n",
       "      <th>amount</th>\n",
       "    </tr>\n",
       "  </thead>\n",
       "  <tbody>\n",
       "    <tr>\n",
       "      <th>91</th>\n",
       "      <td>CALIFORNIA TEACHERS ASSOCIATION ISSUES PAC</td>\n",
       "      <td>11760654</td>\n",
       "    </tr>\n",
       "    <tr>\n",
       "      <th>584</th>\n",
       "      <td>SEIU CALIFORNIA STATE COUNCIL (NONPROFIT 501 (...</td>\n",
       "      <td>5520907</td>\n",
       "    </tr>\n",
       "    <tr>\n",
       "      <th>120</th>\n",
       "      <td>CHAN ZUCKERBERG INITIATIVE ADVOCACY - YES ON 1...</td>\n",
       "      <td>4500000</td>\n",
       "    </tr>\n",
       "    <tr>\n",
       "      <th>588</th>\n",
       "      <td>SEIU LOCAL 2015 ISSUES PAC</td>\n",
       "      <td>3157773</td>\n",
       "    </tr>\n",
       "    <tr>\n",
       "      <th>118</th>\n",
       "      <td>CHAN ZUCKERBERG ADVOCACY (NONPROFIT 501(C)(4))</td>\n",
       "      <td>2115000</td>\n",
       "    </tr>\n",
       "    <tr>\n",
       "      <th>...</th>\n",
       "      <td>...</td>\n",
       "      <td>...</td>\n",
       "    </tr>\n",
       "    <tr>\n",
       "      <th>398</th>\n",
       "      <td>LINDA HERMAN</td>\n",
       "      <td>50</td>\n",
       "    </tr>\n",
       "    <tr>\n",
       "      <th>220</th>\n",
       "      <td>EVE BARRINGER</td>\n",
       "      <td>50</td>\n",
       "    </tr>\n",
       "    <tr>\n",
       "      <th>476</th>\n",
       "      <td>MONA LOCKE</td>\n",
       "      <td>20</td>\n",
       "    </tr>\n",
       "    <tr>\n",
       "      <th>228</th>\n",
       "      <td>FRED MORRISON</td>\n",
       "      <td>20</td>\n",
       "    </tr>\n",
       "    <tr>\n",
       "      <th>473</th>\n",
       "      <td>MILLION VOTER PROJECT ACTION FUND, SPONSORED B...</td>\n",
       "      <td>0</td>\n",
       "    </tr>\n",
       "  </tbody>\n",
       "</table>\n",
       "<p>673 rows × 2 columns</p>\n",
       "</div>"
      ],
      "text/plain": [
       "                                   name_of_contributor    amount\n",
       "91          CALIFORNIA TEACHERS ASSOCIATION ISSUES PAC  11760654\n",
       "584  SEIU CALIFORNIA STATE COUNCIL (NONPROFIT 501 (...   5520907\n",
       "120  CHAN ZUCKERBERG INITIATIVE ADVOCACY - YES ON 1...   4500000\n",
       "588                         SEIU LOCAL 2015 ISSUES PAC   3157773\n",
       "118     CHAN ZUCKERBERG ADVOCACY (NONPROFIT 501(C)(4))   2115000\n",
       "..                                                 ...       ...\n",
       "398                                       LINDA HERMAN        50\n",
       "220                                      EVE BARRINGER        50\n",
       "476                                         MONA LOCKE        20\n",
       "228                                      FRED MORRISON        20\n",
       "473  MILLION VOTER PROJECT ACTION FUND, SPONSORED B...         0\n",
       "\n",
       "[673 rows x 2 columns]"
      ]
     },
     "execution_count": 33,
     "metadata": {},
     "output_type": "execute_result"
    }
   ],
   "source": [
    "top_supporters.sort_values(\"amount\", ascending = False)"
   ]
  },
  {
   "cell_type": "code",
   "execution_count": 34,
   "metadata": {},
   "outputs": [],
   "source": [
    "pd.set_option('display.max_rows', 20)"
   ]
  },
  {
   "cell_type": "code",
   "execution_count": 35,
   "metadata": {},
   "outputs": [],
   "source": [
    "## contributions from San Diego/North County coastal area"
   ]
  },
  {
   "cell_type": "code",
   "execution_count": 36,
   "metadata": {},
   "outputs": [],
   "source": [
    "SD_contribs = contribs[contribs.city == \"SAN DIEGO\"]"
   ]
  },
  {
   "cell_type": "code",
   "execution_count": 37,
   "metadata": {},
   "outputs": [],
   "source": [
    "DM_contribs = contribs[contribs.city == \"DEL MAR\"]"
   ]
  },
  {
   "cell_type": "code",
   "execution_count": 38,
   "metadata": {},
   "outputs": [],
   "source": [
    "SB_contribs = contribs[contribs.city == \"SOLANA BEACH\"]"
   ]
  },
  {
   "cell_type": "code",
   "execution_count": 39,
   "metadata": {},
   "outputs": [],
   "source": [
    "LJ_contribs = contribs[contribs.city == \"LA JOLLA\"]"
   ]
  },
  {
   "cell_type": "code",
   "execution_count": 40,
   "metadata": {},
   "outputs": [],
   "source": [
    "ENC_contribs = contribs[contribs.city == \"ENCINITAS\"]"
   ]
  },
  {
   "cell_type": "code",
   "execution_count": 41,
   "metadata": {},
   "outputs": [],
   "source": [
    "RSF_contribs = contribs[contribs.city == \"RANCHO SANTA FE\"]"
   ]
  },
  {
   "cell_type": "code",
   "execution_count": 42,
   "metadata": {},
   "outputs": [],
   "source": [
    "OC_contribs = contribs[contribs.city == \"OCEANSIDE\"]"
   ]
  },
  {
   "cell_type": "code",
   "execution_count": 43,
   "metadata": {},
   "outputs": [],
   "source": [
    "CB_contribs = contribs[contribs.city == \"CARLSBAD\"]"
   ]
  },
  {
   "cell_type": "code",
   "execution_count": 44,
   "metadata": {},
   "outputs": [],
   "source": [
    "NCC_contribs = pd.concat([DM_contribs, SB_contribs, LJ_contribs, ENC_contribs, RSF_contribs, OC_contribs, CB_contribs])"
   ]
  },
  {
   "cell_type": "code",
   "execution_count": 45,
   "metadata": {},
   "outputs": [
    {
     "name": "stdout",
     "output_type": "stream",
     "text": [
      "<class 'pandas.core.frame.DataFrame'>\n",
      "Int64Index: 146 entries, 97 to 700\n",
      "Data columns (total 15 columns):\n",
      " #   Column               Non-Null Count  Dtype \n",
      "---  ------               --------------  ----- \n",
      " 0   amount               146 non-null    int64 \n",
      " 1   city                 146 non-null    object\n",
      " 2   committee_name       140 non-null    object\n",
      " 3   employer             93 non-null     object\n",
      " 4   filed_date           146 non-null    object\n",
      " 5   id_number            2 non-null      object\n",
      " 6   name_of_contributor  146 non-null    object\n",
      " 7   occupation           111 non-null    object\n",
      " 8   payment_type         146 non-null    object\n",
      " 9   position             146 non-null    object\n",
      " 10  state                146 non-null    object\n",
      " 11  support              0 non-null      object\n",
      " 12  transaction_date     146 non-null    object\n",
      " 13  transaction_number   146 non-null    object\n",
      " 14  zip                  146 non-null    object\n",
      "dtypes: int64(1), object(14)\n",
      "memory usage: 18.2+ KB\n"
     ]
    }
   ],
   "source": [
    "NCC_contribs.info()"
   ]
  },
  {
   "cell_type": "code",
   "execution_count": 46,
   "metadata": {},
   "outputs": [],
   "source": [
    "## As expected, there is a lot of opposition to the ballot measure\n",
    "## from North County.\n",
    "\n",
    "## Interestingly enough, Encinitas resident and NC League of Women Voters president\n",
    "## Anne Omsted has been donating money in support of the measure"
   ]
  },
  {
   "cell_type": "code",
   "execution_count": 47,
   "metadata": {},
   "outputs": [],
   "source": [
    "north_county_supporters = NCC_contribs[NCC_contribs.position == \"support\"]"
   ]
  },
  {
   "cell_type": "code",
   "execution_count": 48,
   "metadata": {},
   "outputs": [
    {
     "data": {
      "text/html": [
       "<div>\n",
       "<style scoped>\n",
       "    .dataframe tbody tr th:only-of-type {\n",
       "        vertical-align: middle;\n",
       "    }\n",
       "\n",
       "    .dataframe tbody tr th {\n",
       "        vertical-align: top;\n",
       "    }\n",
       "\n",
       "    .dataframe thead th {\n",
       "        text-align: right;\n",
       "    }\n",
       "</style>\n",
       "<table border=\"1\" class=\"dataframe\">\n",
       "  <thead>\n",
       "    <tr style=\"text-align: right;\">\n",
       "      <th></th>\n",
       "      <th>amount</th>\n",
       "      <th>city</th>\n",
       "      <th>committee_name</th>\n",
       "      <th>employer</th>\n",
       "      <th>filed_date</th>\n",
       "      <th>id_number</th>\n",
       "      <th>name_of_contributor</th>\n",
       "      <th>occupation</th>\n",
       "      <th>payment_type</th>\n",
       "      <th>position</th>\n",
       "      <th>state</th>\n",
       "      <th>support</th>\n",
       "      <th>transaction_date</th>\n",
       "      <th>transaction_number</th>\n",
       "      <th>zip</th>\n",
       "    </tr>\n",
       "  </thead>\n",
       "  <tbody>\n",
       "    <tr>\n",
       "      <th>776</th>\n",
       "      <td>125000</td>\n",
       "      <td>LA JOLLA</td>\n",
       "      <td>YES ON 15 - SCHOOLS AND COMMUNITIES FIRST SPON...</td>\n",
       "      <td>SALK INSTITUTE</td>\n",
       "      <td>9/24/2020</td>\n",
       "      <td>NaN</td>\n",
       "      <td>IRWIN JACOBS</td>\n",
       "      <td>BOARD OF TRUSTEES</td>\n",
       "      <td>MONETARY</td>\n",
       "      <td>support</td>\n",
       "      <td>CA</td>\n",
       "      <td>NaN</td>\n",
       "      <td>8/31/2020</td>\n",
       "      <td>2506011 - VVBNQRS5JS7</td>\n",
       "      <td>92037-2041</td>\n",
       "    </tr>\n",
       "    <tr>\n",
       "      <th>777</th>\n",
       "      <td>125000</td>\n",
       "      <td>LA JOLLA</td>\n",
       "      <td>YES ON 15 - SCHOOLS AND COMMUNITIES FIRST SPON...</td>\n",
       "      <td>LANG LANG INTERNATIONAL MUSIC FOUNDATION</td>\n",
       "      <td>9/24/2020</td>\n",
       "      <td>NaN</td>\n",
       "      <td>JOAN JACOBS</td>\n",
       "      <td>BOARD OF TRUSTEES</td>\n",
       "      <td>MONETARY</td>\n",
       "      <td>support</td>\n",
       "      <td>CA</td>\n",
       "      <td>NaN</td>\n",
       "      <td>8/31/2020</td>\n",
       "      <td>2506011 - VVBNQRS5KH7</td>\n",
       "      <td>92037-2041</td>\n",
       "    </tr>\n",
       "    <tr>\n",
       "      <th>717</th>\n",
       "      <td>50000</td>\n",
       "      <td>ENCINITAS</td>\n",
       "      <td>YES ON 15 - SCHOOLS AND COMMUNITIES FIRST SPON...</td>\n",
       "      <td>NaN</td>\n",
       "      <td>9/24/2020</td>\n",
       "      <td>1.35791e+06</td>\n",
       "      <td>CALIFORNIA WORKS: SENATOR TONI ATKINS BALLOT M...</td>\n",
       "      <td>NaN</td>\n",
       "      <td>MONETARY</td>\n",
       "      <td>support</td>\n",
       "      <td>CA</td>\n",
       "      <td>NaN</td>\n",
       "      <td>8/26/2020</td>\n",
       "      <td>2506011 - VVBNQRQPXX4</td>\n",
       "      <td>92024-8705</td>\n",
       "    </tr>\n",
       "    <tr>\n",
       "      <th>788</th>\n",
       "      <td>1000</td>\n",
       "      <td>LA JOLLA</td>\n",
       "      <td>YES ON 15 - SCHOOLS AND COMMUNITIES FIRST SPON...</td>\n",
       "      <td>SULLIVAN HILL</td>\n",
       "      <td>9/24/2020</td>\n",
       "      <td>NaN</td>\n",
       "      <td>CANDACE CARROLL</td>\n",
       "      <td>ATTORNEY</td>\n",
       "      <td>MONETARY</td>\n",
       "      <td>support</td>\n",
       "      <td>CA</td>\n",
       "      <td>NaN</td>\n",
       "      <td>9/2/2020</td>\n",
       "      <td>2506011 - VVBNQRTYRQ4</td>\n",
       "      <td>92037-5731</td>\n",
       "    </tr>\n",
       "    <tr>\n",
       "      <th>617</th>\n",
       "      <td>500</td>\n",
       "      <td>ENCINITAS</td>\n",
       "      <td>YES ON 15 - SCHOOLS AND COMMUNITIES FIRST SPON...</td>\n",
       "      <td>NaN</td>\n",
       "      <td>9/24/2020</td>\n",
       "      <td>NaN</td>\n",
       "      <td>SANDRA TIMMONS</td>\n",
       "      <td>NOT EMPLOTED</td>\n",
       "      <td>MONETARY</td>\n",
       "      <td>support</td>\n",
       "      <td>CA</td>\n",
       "      <td>NaN</td>\n",
       "      <td>8/4/2020</td>\n",
       "      <td>2506011 - VVBNQRJES02</td>\n",
       "      <td>92024-7266</td>\n",
       "    </tr>\n",
       "    <tr>\n",
       "      <th>...</th>\n",
       "      <td>...</td>\n",
       "      <td>...</td>\n",
       "      <td>...</td>\n",
       "      <td>...</td>\n",
       "      <td>...</td>\n",
       "      <td>...</td>\n",
       "      <td>...</td>\n",
       "      <td>...</td>\n",
       "      <td>...</td>\n",
       "      <td>...</td>\n",
       "      <td>...</td>\n",
       "      <td>...</td>\n",
       "      <td>...</td>\n",
       "      <td>...</td>\n",
       "      <td>...</td>\n",
       "    </tr>\n",
       "    <tr>\n",
       "      <th>1199</th>\n",
       "      <td>150</td>\n",
       "      <td>LA JOLLA</td>\n",
       "      <td>YES ON 15 - SCHOOLS AND COMMUNITIES FIRST SPON...</td>\n",
       "      <td>UC SAN DIEGO</td>\n",
       "      <td>7/31/2020</td>\n",
       "      <td>NaN</td>\n",
       "      <td>KAREN HIRSCHFELD</td>\n",
       "      <td>GRANT COORDINATOR</td>\n",
       "      <td>MONETARY</td>\n",
       "      <td>support</td>\n",
       "      <td>CA</td>\n",
       "      <td>NaN</td>\n",
       "      <td>5/14/2020</td>\n",
       "      <td>2487568 - VVBNQR16J48</td>\n",
       "      <td>92037-7306</td>\n",
       "    </tr>\n",
       "    <tr>\n",
       "      <th>11</th>\n",
       "      <td>100</td>\n",
       "      <td>ENCINITAS</td>\n",
       "      <td>LEAGUE OF WOMEN VOTERS OF CALIFORNIA SUPPORTIN...</td>\n",
       "      <td>NaN</td>\n",
       "      <td>1/31/2020</td>\n",
       "      <td>NaN</td>\n",
       "      <td>BLAZE NEWMAN</td>\n",
       "      <td>RETIRED</td>\n",
       "      <td>MONETARY</td>\n",
       "      <td>support</td>\n",
       "      <td>CA</td>\n",
       "      <td>NaN</td>\n",
       "      <td>10/24/2019</td>\n",
       "      <td>2444403 - VVBS5QCX4P5</td>\n",
       "      <td>92024-3805</td>\n",
       "    </tr>\n",
       "    <tr>\n",
       "      <th>284</th>\n",
       "      <td>100</td>\n",
       "      <td>OCEANSIDE</td>\n",
       "      <td>YES ON 15 - SCHOOLS AND COMMUNITIES FIRST SPON...</td>\n",
       "      <td>NaN</td>\n",
       "      <td>7/31/2020</td>\n",
       "      <td>NaN</td>\n",
       "      <td>DIANE NYGAARD</td>\n",
       "      <td>NOT-EMPLOYED</td>\n",
       "      <td>MONETARY</td>\n",
       "      <td>support</td>\n",
       "      <td>CA</td>\n",
       "      <td>NaN</td>\n",
       "      <td>3/12/2020</td>\n",
       "      <td>2470948 - VVBNQQQ9716</td>\n",
       "      <td>92056-5446</td>\n",
       "    </tr>\n",
       "    <tr>\n",
       "      <th>1227</th>\n",
       "      <td>50</td>\n",
       "      <td>LA JOLLA</td>\n",
       "      <td>YES ON 15 - SCHOOLS AND COMMUNITIES FIRST SPON...</td>\n",
       "      <td>SAN DIEGO EDUCATION ASSOCIATION</td>\n",
       "      <td>7/31/2020</td>\n",
       "      <td>NaN</td>\n",
       "      <td>RAFAL DOBROWOLSKI</td>\n",
       "      <td>UNION ORGANIZER</td>\n",
       "      <td>MONETARY</td>\n",
       "      <td>support</td>\n",
       "      <td>CA</td>\n",
       "      <td>NaN</td>\n",
       "      <td>6/2/2020</td>\n",
       "      <td>2487568 - VVBNQR60MG1</td>\n",
       "      <td>92037-5974</td>\n",
       "    </tr>\n",
       "    <tr>\n",
       "      <th>1185</th>\n",
       "      <td>50</td>\n",
       "      <td>LA JOLLA</td>\n",
       "      <td>YES ON 15 - SCHOOLS AND COMMUNITIES FIRST SPON...</td>\n",
       "      <td>SAN DIEGO EDUCATION ASSOCIATION</td>\n",
       "      <td>7/31/2020</td>\n",
       "      <td>NaN</td>\n",
       "      <td>RAFAL DOBROWOLSKI</td>\n",
       "      <td>UNION ORGANIZER</td>\n",
       "      <td>MONETARY</td>\n",
       "      <td>support</td>\n",
       "      <td>CA</td>\n",
       "      <td>NaN</td>\n",
       "      <td>5/14/2020</td>\n",
       "      <td>2487568 - VVBNQR16GN9</td>\n",
       "      <td>92037-5974</td>\n",
       "    </tr>\n",
       "  </tbody>\n",
       "</table>\n",
       "<p>26 rows × 15 columns</p>\n",
       "</div>"
      ],
      "text/plain": [
       "      amount       city                                     committee_name  \\\n",
       "776   125000   LA JOLLA  YES ON 15 - SCHOOLS AND COMMUNITIES FIRST SPON...   \n",
       "777   125000   LA JOLLA  YES ON 15 - SCHOOLS AND COMMUNITIES FIRST SPON...   \n",
       "717    50000  ENCINITAS  YES ON 15 - SCHOOLS AND COMMUNITIES FIRST SPON...   \n",
       "788     1000   LA JOLLA  YES ON 15 - SCHOOLS AND COMMUNITIES FIRST SPON...   \n",
       "617      500  ENCINITAS  YES ON 15 - SCHOOLS AND COMMUNITIES FIRST SPON...   \n",
       "...      ...        ...                                                ...   \n",
       "1199     150   LA JOLLA  YES ON 15 - SCHOOLS AND COMMUNITIES FIRST SPON...   \n",
       "11       100  ENCINITAS  LEAGUE OF WOMEN VOTERS OF CALIFORNIA SUPPORTIN...   \n",
       "284      100  OCEANSIDE  YES ON 15 - SCHOOLS AND COMMUNITIES FIRST SPON...   \n",
       "1227      50   LA JOLLA  YES ON 15 - SCHOOLS AND COMMUNITIES FIRST SPON...   \n",
       "1185      50   LA JOLLA  YES ON 15 - SCHOOLS AND COMMUNITIES FIRST SPON...   \n",
       "\n",
       "                                      employer filed_date    id_number  \\\n",
       "776                             SALK INSTITUTE  9/24/2020          NaN   \n",
       "777   LANG LANG INTERNATIONAL MUSIC FOUNDATION  9/24/2020          NaN   \n",
       "717                                        NaN  9/24/2020  1.35791e+06   \n",
       "788                              SULLIVAN HILL  9/24/2020          NaN   \n",
       "617                                        NaN  9/24/2020          NaN   \n",
       "...                                        ...        ...          ...   \n",
       "1199                              UC SAN DIEGO  7/31/2020          NaN   \n",
       "11                                         NaN  1/31/2020          NaN   \n",
       "284                                        NaN  7/31/2020          NaN   \n",
       "1227           SAN DIEGO EDUCATION ASSOCIATION  7/31/2020          NaN   \n",
       "1185           SAN DIEGO EDUCATION ASSOCIATION  7/31/2020          NaN   \n",
       "\n",
       "                                    name_of_contributor         occupation  \\\n",
       "776                                        IRWIN JACOBS  BOARD OF TRUSTEES   \n",
       "777                                         JOAN JACOBS  BOARD OF TRUSTEES   \n",
       "717   CALIFORNIA WORKS: SENATOR TONI ATKINS BALLOT M...                NaN   \n",
       "788                                     CANDACE CARROLL           ATTORNEY   \n",
       "617                                      SANDRA TIMMONS       NOT EMPLOTED   \n",
       "...                                                 ...                ...   \n",
       "1199                                   KAREN HIRSCHFELD  GRANT COORDINATOR   \n",
       "11                                         BLAZE NEWMAN            RETIRED   \n",
       "284                                       DIANE NYGAARD       NOT-EMPLOYED   \n",
       "1227                                  RAFAL DOBROWOLSKI    UNION ORGANIZER   \n",
       "1185                                  RAFAL DOBROWOLSKI    UNION ORGANIZER   \n",
       "\n",
       "     payment_type position state support transaction_date  \\\n",
       "776      MONETARY  support    CA     NaN        8/31/2020   \n",
       "777      MONETARY  support    CA     NaN        8/31/2020   \n",
       "717      MONETARY  support    CA     NaN        8/26/2020   \n",
       "788      MONETARY  support    CA     NaN         9/2/2020   \n",
       "617      MONETARY  support    CA     NaN         8/4/2020   \n",
       "...           ...      ...   ...     ...              ...   \n",
       "1199     MONETARY  support    CA     NaN        5/14/2020   \n",
       "11       MONETARY  support    CA     NaN       10/24/2019   \n",
       "284      MONETARY  support    CA     NaN        3/12/2020   \n",
       "1227     MONETARY  support    CA     NaN         6/2/2020   \n",
       "1185     MONETARY  support    CA     NaN        5/14/2020   \n",
       "\n",
       "         transaction_number         zip  \n",
       "776   2506011 - VVBNQRS5JS7  92037-2041  \n",
       "777   2506011 - VVBNQRS5KH7  92037-2041  \n",
       "717   2506011 - VVBNQRQPXX4  92024-8705  \n",
       "788   2506011 - VVBNQRTYRQ4  92037-5731  \n",
       "617   2506011 - VVBNQRJES02  92024-7266  \n",
       "...                     ...         ...  \n",
       "1199  2487568 - VVBNQR16J48  92037-7306  \n",
       "11    2444403 - VVBS5QCX4P5  92024-3805  \n",
       "284   2470948 - VVBNQQQ9716  92056-5446  \n",
       "1227  2487568 - VVBNQR60MG1  92037-5974  \n",
       "1185  2487568 - VVBNQR16GN9  92037-5974  \n",
       "\n",
       "[26 rows x 15 columns]"
      ]
     },
     "execution_count": 48,
     "metadata": {},
     "output_type": "execute_result"
    }
   ],
   "source": [
    "north_county_supporters.sort_values(\"amount\", ascending = False)"
   ]
  },
  {
   "cell_type": "code",
   "execution_count": 49,
   "metadata": {},
   "outputs": [],
   "source": [
    "## Anne Omsted has donated 1650 out of the first 2000 in support that has\n",
    "## come from North County\n",
    "\n",
    "## bigger donors that stepped up in favor of Prop. 15 include former Qualcomm exec\n",
    "## Irwin Jacobs and his wife, Joan"
   ]
  },
  {
   "cell_type": "code",
   "execution_count": 66,
   "metadata": {},
   "outputs": [
    {
     "data": {
      "text/plain": [
       "3400"
      ]
     },
     "execution_count": 66,
     "metadata": {},
     "output_type": "execute_result"
    }
   ],
   "source": [
    "north_county_supporters[north_county_supporters.name_of_contributor.str.contains(\"OMSTED\")].amount.sum()"
   ]
  },
  {
   "cell_type": "code",
   "execution_count": 50,
   "metadata": {},
   "outputs": [
    {
     "data": {
      "text/plain": [
       "3400"
      ]
     },
     "execution_count": 50,
     "metadata": {},
     "output_type": "execute_result"
    }
   ],
   "source": [
    "north_county_supporters[north_county_supporters.name_of_contributor == \"ANNE OMSTED\"].amount.sum()"
   ]
  },
  {
   "cell_type": "code",
   "execution_count": 51,
   "metadata": {},
   "outputs": [
    {
     "data": {
      "text/plain": [
       "position\n",
       "oppose      53723\n",
       "support    305350\n",
       "Name: amount, dtype: int64"
      ]
     },
     "execution_count": 51,
     "metadata": {},
     "output_type": "execute_result"
    }
   ],
   "source": [
    "NCC_contribs.groupby(\"position\").amount.sum()"
   ]
  },
  {
   "cell_type": "code",
   "execution_count": 52,
   "metadata": {},
   "outputs": [
    {
     "data": {
      "text/html": [
       "<div>\n",
       "<style scoped>\n",
       "    .dataframe tbody tr th:only-of-type {\n",
       "        vertical-align: middle;\n",
       "    }\n",
       "\n",
       "    .dataframe tbody tr th {\n",
       "        vertical-align: top;\n",
       "    }\n",
       "\n",
       "    .dataframe thead th {\n",
       "        text-align: right;\n",
       "    }\n",
       "</style>\n",
       "<table border=\"1\" class=\"dataframe\">\n",
       "  <thead>\n",
       "    <tr style=\"text-align: right;\">\n",
       "      <th></th>\n",
       "      <th>amount</th>\n",
       "      <th>city</th>\n",
       "      <th>committee_name</th>\n",
       "      <th>employer</th>\n",
       "      <th>filed_date</th>\n",
       "      <th>id_number</th>\n",
       "      <th>name_of_contributor</th>\n",
       "      <th>occupation</th>\n",
       "      <th>payment_type</th>\n",
       "      <th>position</th>\n",
       "      <th>state</th>\n",
       "      <th>support</th>\n",
       "      <th>transaction_date</th>\n",
       "      <th>transaction_number</th>\n",
       "      <th>zip</th>\n",
       "    </tr>\n",
       "  </thead>\n",
       "  <tbody>\n",
       "    <tr>\n",
       "      <th>69</th>\n",
       "      <td>10000</td>\n",
       "      <td>LA JOLLA</td>\n",
       "      <td>NaN</td>\n",
       "      <td>NaN</td>\n",
       "      <td>9/24/2020</td>\n",
       "      <td>1.42865e+06</td>\n",
       "      <td>LA JOLLA COUNTRY CLUB</td>\n",
       "      <td>NaN</td>\n",
       "      <td>MONETARY</td>\n",
       "      <td>oppose</td>\n",
       "      <td>CA</td>\n",
       "      <td>NaN</td>\n",
       "      <td>8/7/2020</td>\n",
       "      <td>2505465 - INC52</td>\n",
       "      <td>92037</td>\n",
       "    </tr>\n",
       "    <tr>\n",
       "      <th>53</th>\n",
       "      <td>5000</td>\n",
       "      <td>CARLSBAD</td>\n",
       "      <td>NO ON PROP 15 - STOP HIGHER PROPERTY TAXES AND...</td>\n",
       "      <td>NaN</td>\n",
       "      <td>4/30/2020</td>\n",
       "      <td>NaN</td>\n",
       "      <td>INTEGRAL SENIOR LIVING MANAGEMENT, LLC</td>\n",
       "      <td>NaN</td>\n",
       "      <td>MONETARY</td>\n",
       "      <td>oppose</td>\n",
       "      <td>CA</td>\n",
       "      <td>NaN</td>\n",
       "      <td>2/7/2020</td>\n",
       "      <td>2470194 - INC224</td>\n",
       "      <td>92008</td>\n",
       "    </tr>\n",
       "    <tr>\n",
       "      <th>202</th>\n",
       "      <td>2000</td>\n",
       "      <td>SOLANA BEACH</td>\n",
       "      <td>NO ON PROP 15 - STOP HIGHER PROPERTY TAXES AND...</td>\n",
       "      <td>NaN</td>\n",
       "      <td>9/24/2020</td>\n",
       "      <td>NaN</td>\n",
       "      <td>SOLANA BEACH MINI STORAGE LLC DBA SMART SELF S...</td>\n",
       "      <td>NaN</td>\n",
       "      <td>MONETARY</td>\n",
       "      <td>oppose</td>\n",
       "      <td>CA</td>\n",
       "      <td>NaN</td>\n",
       "      <td>8/7/2020</td>\n",
       "      <td>2505593 - IDT45</td>\n",
       "      <td>92075</td>\n",
       "    </tr>\n",
       "    <tr>\n",
       "      <th>200</th>\n",
       "      <td>2000</td>\n",
       "      <td>CARLSBAD</td>\n",
       "      <td>NO ON PROP 15 - STOP HIGHER PROPERTY TAXES AND...</td>\n",
       "      <td>NaN</td>\n",
       "      <td>9/24/2020</td>\n",
       "      <td>NaN</td>\n",
       "      <td>CARLSBAD SELF STORAGE LLC</td>\n",
       "      <td>NaN</td>\n",
       "      <td>MONETARY</td>\n",
       "      <td>oppose</td>\n",
       "      <td>CA</td>\n",
       "      <td>NaN</td>\n",
       "      <td>8/7/2020</td>\n",
       "      <td>2505593 - IDT43</td>\n",
       "      <td>92011</td>\n",
       "    </tr>\n",
       "    <tr>\n",
       "      <th>194</th>\n",
       "      <td>2000</td>\n",
       "      <td>ENCINITAS</td>\n",
       "      <td>NO ON PROP 15 - STOP HIGHER PROPERTY TAXES AND...</td>\n",
       "      <td>NaN</td>\n",
       "      <td>9/24/2020</td>\n",
       "      <td>NaN</td>\n",
       "      <td>OLIVENHAIN SELF STORAGE LLC</td>\n",
       "      <td>NaN</td>\n",
       "      <td>MONETARY</td>\n",
       "      <td>oppose</td>\n",
       "      <td>CA</td>\n",
       "      <td>NaN</td>\n",
       "      <td>8/7/2020</td>\n",
       "      <td>2505593 - IDT37</td>\n",
       "      <td>92024</td>\n",
       "    </tr>\n",
       "    <tr>\n",
       "      <th>...</th>\n",
       "      <td>...</td>\n",
       "      <td>...</td>\n",
       "      <td>...</td>\n",
       "      <td>...</td>\n",
       "      <td>...</td>\n",
       "      <td>...</td>\n",
       "      <td>...</td>\n",
       "      <td>...</td>\n",
       "      <td>...</td>\n",
       "      <td>...</td>\n",
       "      <td>...</td>\n",
       "      <td>...</td>\n",
       "      <td>...</td>\n",
       "      <td>...</td>\n",
       "      <td>...</td>\n",
       "    </tr>\n",
       "    <tr>\n",
       "      <th>174</th>\n",
       "      <td>100</td>\n",
       "      <td>ENCINITAS</td>\n",
       "      <td>FAMILY FARMERS AGAINST PROP 15 - STOP HIGHER F...</td>\n",
       "      <td>NaN</td>\n",
       "      <td>9/24/2020</td>\n",
       "      <td>NaN</td>\n",
       "      <td>DRAMM &amp; ECHTER, INC.</td>\n",
       "      <td>NaN</td>\n",
       "      <td>MONETARY</td>\n",
       "      <td>oppose</td>\n",
       "      <td>CA</td>\n",
       "      <td>NaN</td>\n",
       "      <td>9/14/2020</td>\n",
       "      <td>2505637 - INC1192</td>\n",
       "      <td>92024</td>\n",
       "    </tr>\n",
       "    <tr>\n",
       "      <th>2206</th>\n",
       "      <td>65</td>\n",
       "      <td>OCEANSIDE</td>\n",
       "      <td>PROTECT PROP. 13, NO ON 15, A PROJECT OF THE H...</td>\n",
       "      <td>DEPT VETERANS AFFAIRS</td>\n",
       "      <td>1/30/2020</td>\n",
       "      <td>NaN</td>\n",
       "      <td>JOHN M DAVIS</td>\n",
       "      <td>ARCHITECT</td>\n",
       "      <td>MONETARY</td>\n",
       "      <td>oppose</td>\n",
       "      <td>CA</td>\n",
       "      <td>NaN</td>\n",
       "      <td>11/7/2019</td>\n",
       "      <td>2439438 - INC71753</td>\n",
       "      <td>920565492</td>\n",
       "    </tr>\n",
       "    <tr>\n",
       "      <th>1475</th>\n",
       "      <td>65</td>\n",
       "      <td>OCEANSIDE</td>\n",
       "      <td>PROTECT PROP. 13, NO ON 15, A PROJECT OF THE H...</td>\n",
       "      <td>INGWERSEN NURSERY   INC</td>\n",
       "      <td>1/30/2020</td>\n",
       "      <td>NaN</td>\n",
       "      <td>JANE A INGWERSEN</td>\n",
       "      <td>NURSERYMAN</td>\n",
       "      <td>MONETARY</td>\n",
       "      <td>oppose</td>\n",
       "      <td>CA</td>\n",
       "      <td>NaN</td>\n",
       "      <td>10/18/2019</td>\n",
       "      <td>2439438 - INC66120</td>\n",
       "      <td>920545637</td>\n",
       "    </tr>\n",
       "    <tr>\n",
       "      <th>1581</th>\n",
       "      <td>60</td>\n",
       "      <td>LA JOLLA</td>\n",
       "      <td>PROTECT PROP. 13, NO ON 15, A PROJECT OF THE H...</td>\n",
       "      <td>NONE</td>\n",
       "      <td>1/30/2020</td>\n",
       "      <td>NaN</td>\n",
       "      <td>JAMES R FURBY</td>\n",
       "      <td>RETIRED</td>\n",
       "      <td>MONETARY</td>\n",
       "      <td>oppose</td>\n",
       "      <td>CA</td>\n",
       "      <td>NaN</td>\n",
       "      <td>10/18/2019</td>\n",
       "      <td>2439438 - INC67293</td>\n",
       "      <td>920373942</td>\n",
       "    </tr>\n",
       "    <tr>\n",
       "      <th>1157</th>\n",
       "      <td>50</td>\n",
       "      <td>DEL MAR</td>\n",
       "      <td>PROTECT PROP. 13, NO ON 15, A PROJECT OF THE H...</td>\n",
       "      <td>NONE</td>\n",
       "      <td>1/30/2020</td>\n",
       "      <td>NaN</td>\n",
       "      <td>BRIAN CAPON</td>\n",
       "      <td>RETIRED</td>\n",
       "      <td>MONETARY</td>\n",
       "      <td>oppose</td>\n",
       "      <td>CA</td>\n",
       "      <td>NaN</td>\n",
       "      <td>10/16/2019</td>\n",
       "      <td>2439438 - INC64470</td>\n",
       "      <td>920142139</td>\n",
       "    </tr>\n",
       "  </tbody>\n",
       "</table>\n",
       "<p>120 rows × 15 columns</p>\n",
       "</div>"
      ],
      "text/plain": [
       "      amount          city                                     committee_name  \\\n",
       "69     10000      LA JOLLA                                                NaN   \n",
       "53      5000      CARLSBAD  NO ON PROP 15 - STOP HIGHER PROPERTY TAXES AND...   \n",
       "202     2000  SOLANA BEACH  NO ON PROP 15 - STOP HIGHER PROPERTY TAXES AND...   \n",
       "200     2000      CARLSBAD  NO ON PROP 15 - STOP HIGHER PROPERTY TAXES AND...   \n",
       "194     2000     ENCINITAS  NO ON PROP 15 - STOP HIGHER PROPERTY TAXES AND...   \n",
       "...      ...           ...                                                ...   \n",
       "174      100     ENCINITAS  FAMILY FARMERS AGAINST PROP 15 - STOP HIGHER F...   \n",
       "2206      65     OCEANSIDE  PROTECT PROP. 13, NO ON 15, A PROJECT OF THE H...   \n",
       "1475      65     OCEANSIDE  PROTECT PROP. 13, NO ON 15, A PROJECT OF THE H...   \n",
       "1581      60      LA JOLLA  PROTECT PROP. 13, NO ON 15, A PROJECT OF THE H...   \n",
       "1157      50       DEL MAR  PROTECT PROP. 13, NO ON 15, A PROJECT OF THE H...   \n",
       "\n",
       "                     employer filed_date    id_number  \\\n",
       "69                        NaN  9/24/2020  1.42865e+06   \n",
       "53                        NaN  4/30/2020          NaN   \n",
       "202                       NaN  9/24/2020          NaN   \n",
       "200                       NaN  9/24/2020          NaN   \n",
       "194                       NaN  9/24/2020          NaN   \n",
       "...                       ...        ...          ...   \n",
       "174                       NaN  9/24/2020          NaN   \n",
       "2206    DEPT VETERANS AFFAIRS  1/30/2020          NaN   \n",
       "1475  INGWERSEN NURSERY   INC  1/30/2020          NaN   \n",
       "1581                     NONE  1/30/2020          NaN   \n",
       "1157                     NONE  1/30/2020          NaN   \n",
       "\n",
       "                                    name_of_contributor  occupation  \\\n",
       "69                                LA JOLLA COUNTRY CLUB         NaN   \n",
       "53               INTEGRAL SENIOR LIVING MANAGEMENT, LLC         NaN   \n",
       "202   SOLANA BEACH MINI STORAGE LLC DBA SMART SELF S...         NaN   \n",
       "200                           CARLSBAD SELF STORAGE LLC         NaN   \n",
       "194                         OLIVENHAIN SELF STORAGE LLC         NaN   \n",
       "...                                                 ...         ...   \n",
       "174                                DRAMM & ECHTER, INC.         NaN   \n",
       "2206                                       JOHN M DAVIS   ARCHITECT   \n",
       "1475                                   JANE A INGWERSEN  NURSERYMAN   \n",
       "1581                                      JAMES R FURBY     RETIRED   \n",
       "1157                                        BRIAN CAPON     RETIRED   \n",
       "\n",
       "     payment_type position state support transaction_date  transaction_number  \\\n",
       "69       MONETARY   oppose    CA     NaN         8/7/2020     2505465 - INC52   \n",
       "53       MONETARY   oppose    CA     NaN         2/7/2020    2470194 - INC224   \n",
       "202      MONETARY   oppose    CA     NaN         8/7/2020     2505593 - IDT45   \n",
       "200      MONETARY   oppose    CA     NaN         8/7/2020     2505593 - IDT43   \n",
       "194      MONETARY   oppose    CA     NaN         8/7/2020     2505593 - IDT37   \n",
       "...           ...      ...   ...     ...              ...                 ...   \n",
       "174      MONETARY   oppose    CA     NaN        9/14/2020   2505637 - INC1192   \n",
       "2206     MONETARY   oppose    CA     NaN        11/7/2019  2439438 - INC71753   \n",
       "1475     MONETARY   oppose    CA     NaN       10/18/2019  2439438 - INC66120   \n",
       "1581     MONETARY   oppose    CA     NaN       10/18/2019  2439438 - INC67293   \n",
       "1157     MONETARY   oppose    CA     NaN       10/16/2019  2439438 - INC64470   \n",
       "\n",
       "            zip  \n",
       "69        92037  \n",
       "53        92008  \n",
       "202       92075  \n",
       "200       92011  \n",
       "194       92024  \n",
       "...         ...  \n",
       "174       92024  \n",
       "2206  920565492  \n",
       "1475  920545637  \n",
       "1581  920373942  \n",
       "1157  920142139  \n",
       "\n",
       "[120 rows x 15 columns]"
      ]
     },
     "execution_count": 52,
     "metadata": {},
     "output_type": "execute_result"
    }
   ],
   "source": [
    "NCC_contribs[NCC_contribs.position == \"oppose\"].sort_values(\"amount\", ascending = False)"
   ]
  },
  {
   "cell_type": "code",
   "execution_count": 53,
   "metadata": {},
   "outputs": [],
   "source": [
    "## Mark Zuckerberg and Priscilla Chan have been the biggest supporters \n",
    "## of the ballot measures for Prop 13 reform."
   ]
  },
  {
   "cell_type": "code",
   "execution_count": 54,
   "metadata": {},
   "outputs": [],
   "source": [
    "zuck_contribs = contribs[contribs.name_of_contributor.str.contains(\"ZUCKERBERG\")]"
   ]
  },
  {
   "cell_type": "code",
   "execution_count": 55,
   "metadata": {},
   "outputs": [
    {
     "data": {
      "text/html": [
       "<div>\n",
       "<style scoped>\n",
       "    .dataframe tbody tr th:only-of-type {\n",
       "        vertical-align: middle;\n",
       "    }\n",
       "\n",
       "    .dataframe tbody tr th {\n",
       "        vertical-align: top;\n",
       "    }\n",
       "\n",
       "    .dataframe thead th {\n",
       "        text-align: right;\n",
       "    }\n",
       "</style>\n",
       "<table border=\"1\" class=\"dataframe\">\n",
       "  <thead>\n",
       "    <tr style=\"text-align: right;\">\n",
       "      <th></th>\n",
       "      <th>amount</th>\n",
       "      <th>city</th>\n",
       "      <th>committee_name</th>\n",
       "      <th>employer</th>\n",
       "      <th>filed_date</th>\n",
       "      <th>id_number</th>\n",
       "      <th>name_of_contributor</th>\n",
       "      <th>occupation</th>\n",
       "      <th>payment_type</th>\n",
       "      <th>position</th>\n",
       "      <th>state</th>\n",
       "      <th>support</th>\n",
       "      <th>transaction_date</th>\n",
       "      <th>transaction_number</th>\n",
       "      <th>zip</th>\n",
       "    </tr>\n",
       "  </thead>\n",
       "  <tbody>\n",
       "    <tr>\n",
       "      <th>1</th>\n",
       "      <td>195000</td>\n",
       "      <td>PALO ALTO</td>\n",
       "      <td>MILLION VOTER PROJECT ACTION FUND - YES ON 15,...</td>\n",
       "      <td>NaN</td>\n",
       "      <td>7/31/2020</td>\n",
       "      <td>1.40586e+06</td>\n",
       "      <td>CHAN ZUCKERBERG ADVOCACY (NONPROFIT 501(C)(4))</td>\n",
       "      <td>NaN</td>\n",
       "      <td>MONETARY</td>\n",
       "      <td>support</td>\n",
       "      <td>CA</td>\n",
       "      <td>NaN</td>\n",
       "      <td>4/30/2020</td>\n",
       "      <td>2486385 - VSH3JKXY7W3</td>\n",
       "      <td>94301-1546</td>\n",
       "    </tr>\n",
       "    <tr>\n",
       "      <th>7</th>\n",
       "      <td>315000</td>\n",
       "      <td>PALO ALTO</td>\n",
       "      <td>MILLION VOTER PROJECT ACTION FUND - YES ON 15,...</td>\n",
       "      <td>NaN</td>\n",
       "      <td>4/30/2019</td>\n",
       "      <td>1.40586e+06</td>\n",
       "      <td>CHAN ZUCKERBERG ADVOCACY (NONPROFIT 501(C)(4))</td>\n",
       "      <td>NaN</td>\n",
       "      <td>MONETARY</td>\n",
       "      <td>support</td>\n",
       "      <td>CA</td>\n",
       "      <td>NaN</td>\n",
       "      <td>2/21/2019</td>\n",
       "      <td>2381380 - VSH3JHKJ094</td>\n",
       "      <td>94301-1546</td>\n",
       "    </tr>\n",
       "    <tr>\n",
       "      <th>0</th>\n",
       "      <td>150000</td>\n",
       "      <td>REDWOOD CITY</td>\n",
       "      <td>PICO CALIFORNIA ACTION FUND-YES ON 15, NO ON 2...</td>\n",
       "      <td>NaN</td>\n",
       "      <td>9/24/2020</td>\n",
       "      <td>NaN</td>\n",
       "      <td>CHAN ZUCKERBERG INSTITUTE ADVOCACY</td>\n",
       "      <td>NaN</td>\n",
       "      <td>MONETARY</td>\n",
       "      <td>support</td>\n",
       "      <td>CA</td>\n",
       "      <td>NaN</td>\n",
       "      <td>8/17/2020</td>\n",
       "      <td>2505547 - INC4</td>\n",
       "      <td>94063</td>\n",
       "    </tr>\n",
       "    <tr>\n",
       "      <th>1</th>\n",
       "      <td>30000</td>\n",
       "      <td>REDWOOD CITY</td>\n",
       "      <td>SILICON VALLEY RISING ACTION, YES ON PROP 15, ...</td>\n",
       "      <td>NaN</td>\n",
       "      <td>7/31/2020</td>\n",
       "      <td>NaN</td>\n",
       "      <td>CHAN ZUCKERBERG INITIATIVE ADVOCACY</td>\n",
       "      <td>NaN</td>\n",
       "      <td>MONETARY</td>\n",
       "      <td>support</td>\n",
       "      <td>CA</td>\n",
       "      <td>NaN</td>\n",
       "      <td>6/26/2020</td>\n",
       "      <td>2486497 - INC2</td>\n",
       "      <td>94063</td>\n",
       "    </tr>\n",
       "    <tr>\n",
       "      <th>3</th>\n",
       "      <td>6916</td>\n",
       "      <td>REDWOOD CITY</td>\n",
       "      <td>SILICON VALLEY RISING ACTION, YES ON PROP 15, ...</td>\n",
       "      <td>NaN</td>\n",
       "      <td>9/24/2020</td>\n",
       "      <td>NaN</td>\n",
       "      <td>CHAN ZUCKERBERG INITIATIVE ADVOCACY</td>\n",
       "      <td>NaN</td>\n",
       "      <td>MONETARY</td>\n",
       "      <td>support</td>\n",
       "      <td>CA</td>\n",
       "      <td>NaN</td>\n",
       "      <td>7/24/2020</td>\n",
       "      <td>2505228 - INC11</td>\n",
       "      <td>94063</td>\n",
       "    </tr>\n",
       "    <tr>\n",
       "      <th>6</th>\n",
       "      <td>100000</td>\n",
       "      <td>REDWOOD CITY</td>\n",
       "      <td>SILICON VALLEY RISING ACTION, YES ON PROP 15, ...</td>\n",
       "      <td>NaN</td>\n",
       "      <td>9/24/2020</td>\n",
       "      <td>NaN</td>\n",
       "      <td>CHAN ZUCKERBERG INITIATIVE ADVOCACY</td>\n",
       "      <td>NaN</td>\n",
       "      <td>MONETARY</td>\n",
       "      <td>support</td>\n",
       "      <td>CA</td>\n",
       "      <td>NaN</td>\n",
       "      <td>8/13/2020</td>\n",
       "      <td>2505228 - INC96</td>\n",
       "      <td>94063</td>\n",
       "    </tr>\n",
       "    <tr>\n",
       "      <th>7</th>\n",
       "      <td>2301</td>\n",
       "      <td>REDWOOD CITY</td>\n",
       "      <td>SILICON VALLEY RISING ACTION, YES ON PROP 15, ...</td>\n",
       "      <td>NaN</td>\n",
       "      <td>9/24/2020</td>\n",
       "      <td>NaN</td>\n",
       "      <td>CHAN ZUCKERBERG INITIATIVE ADVOCACY</td>\n",
       "      <td>NaN</td>\n",
       "      <td>MONETARY</td>\n",
       "      <td>support</td>\n",
       "      <td>CA</td>\n",
       "      <td>NaN</td>\n",
       "      <td>7/31/2020</td>\n",
       "      <td>2505228 - INC97</td>\n",
       "      <td>94063</td>\n",
       "    </tr>\n",
       "    <tr>\n",
       "      <th>420</th>\n",
       "      <td>185000</td>\n",
       "      <td>PALO ALTO</td>\n",
       "      <td>YES ON 15 - SCHOOLS AND COMMUNITIES FIRST SPON...</td>\n",
       "      <td>NaN</td>\n",
       "      <td>4/30/2019</td>\n",
       "      <td>1.40586e+06</td>\n",
       "      <td>CHAN ZUCKERBERG ADVOCACY (NONPROFIT 501(C)(4))</td>\n",
       "      <td>NaN</td>\n",
       "      <td>MONETARY</td>\n",
       "      <td>support</td>\n",
       "      <td>CA</td>\n",
       "      <td>NaN</td>\n",
       "      <td>2/21/2019</td>\n",
       "      <td>2381375 - VVBNQHHDHM7</td>\n",
       "      <td>94301-1546</td>\n",
       "    </tr>\n",
       "    <tr>\n",
       "      <th>439</th>\n",
       "      <td>115000</td>\n",
       "      <td>PALO ALTO</td>\n",
       "      <td>YES ON 15 - SCHOOLS AND COMMUNITIES FIRST SPON...</td>\n",
       "      <td>NaN</td>\n",
       "      <td>3/27/2020</td>\n",
       "      <td>1.40586e+06</td>\n",
       "      <td>CHAN ZUCKERBERG ADVOCACY (NONPROFIT 501(C)(4))</td>\n",
       "      <td>NaN</td>\n",
       "      <td>MONETARY</td>\n",
       "      <td>support</td>\n",
       "      <td>CA</td>\n",
       "      <td>NaN</td>\n",
       "      <td>5/7/2019</td>\n",
       "      <td>2400012 - VVBNQKJQFJ4</td>\n",
       "      <td>94301-1546</td>\n",
       "    </tr>\n",
       "    <tr>\n",
       "      <th>498</th>\n",
       "      <td>1000000</td>\n",
       "      <td>PALO ALTO</td>\n",
       "      <td>YES ON 15 - SCHOOLS AND COMMUNITIES FIRST SPON...</td>\n",
       "      <td>NaN</td>\n",
       "      <td>10/31/2019</td>\n",
       "      <td>1.40586e+06</td>\n",
       "      <td>CHAN ZUCKERBERG ADVOCACY (NONPROFIT 501(C)(4))</td>\n",
       "      <td>NaN</td>\n",
       "      <td>MONETARY</td>\n",
       "      <td>support</td>\n",
       "      <td>CA</td>\n",
       "      <td>NaN</td>\n",
       "      <td>8/22/2019</td>\n",
       "      <td>2420008 - VVBNQPHK7Q8</td>\n",
       "      <td>94301-1546</td>\n",
       "    </tr>\n",
       "    <tr>\n",
       "      <th>634</th>\n",
       "      <td>4500000</td>\n",
       "      <td>PALO ALTO</td>\n",
       "      <td>YES ON 15 - SCHOOLS AND COMMUNITIES FIRST SPON...</td>\n",
       "      <td>NaN</td>\n",
       "      <td>9/24/2020</td>\n",
       "      <td>1.40586e+06</td>\n",
       "      <td>CHAN ZUCKERBERG INITIATIVE ADVOCACY - YES ON 1...</td>\n",
       "      <td>NaN</td>\n",
       "      <td>MONETARY</td>\n",
       "      <td>support</td>\n",
       "      <td>CA</td>\n",
       "      <td>NaN</td>\n",
       "      <td>8/11/2020</td>\n",
       "      <td>2506011 - VVBNQRJMMM7</td>\n",
       "      <td>94306-2515</td>\n",
       "    </tr>\n",
       "    <tr>\n",
       "      <th>1112</th>\n",
       "      <td>305000</td>\n",
       "      <td>PALO ALTO</td>\n",
       "      <td>YES ON 15 - SCHOOLS AND COMMUNITIES FIRST SPON...</td>\n",
       "      <td>NaN</td>\n",
       "      <td>7/31/2020</td>\n",
       "      <td>1.40586e+06</td>\n",
       "      <td>CHAN ZUCKERBERG ADVOCACY (NONPROFIT 501(C)(4))</td>\n",
       "      <td>NaN</td>\n",
       "      <td>MONETARY</td>\n",
       "      <td>support</td>\n",
       "      <td>CA</td>\n",
       "      <td>NaN</td>\n",
       "      <td>4/30/2020</td>\n",
       "      <td>2487568 - VVBNQQWJ4C5</td>\n",
       "      <td>94301-1546</td>\n",
       "    </tr>\n",
       "  </tbody>\n",
       "</table>\n",
       "</div>"
      ],
      "text/plain": [
       "       amount          city  \\\n",
       "1      195000     PALO ALTO   \n",
       "7      315000     PALO ALTO   \n",
       "0      150000  REDWOOD CITY   \n",
       "1       30000  REDWOOD CITY   \n",
       "3        6916  REDWOOD CITY   \n",
       "6      100000  REDWOOD CITY   \n",
       "7        2301  REDWOOD CITY   \n",
       "420    185000     PALO ALTO   \n",
       "439    115000     PALO ALTO   \n",
       "498   1000000     PALO ALTO   \n",
       "634   4500000     PALO ALTO   \n",
       "1112   305000     PALO ALTO   \n",
       "\n",
       "                                         committee_name employer  filed_date  \\\n",
       "1     MILLION VOTER PROJECT ACTION FUND - YES ON 15,...      NaN   7/31/2020   \n",
       "7     MILLION VOTER PROJECT ACTION FUND - YES ON 15,...      NaN   4/30/2019   \n",
       "0     PICO CALIFORNIA ACTION FUND-YES ON 15, NO ON 2...      NaN   9/24/2020   \n",
       "1     SILICON VALLEY RISING ACTION, YES ON PROP 15, ...      NaN   7/31/2020   \n",
       "3     SILICON VALLEY RISING ACTION, YES ON PROP 15, ...      NaN   9/24/2020   \n",
       "6     SILICON VALLEY RISING ACTION, YES ON PROP 15, ...      NaN   9/24/2020   \n",
       "7     SILICON VALLEY RISING ACTION, YES ON PROP 15, ...      NaN   9/24/2020   \n",
       "420   YES ON 15 - SCHOOLS AND COMMUNITIES FIRST SPON...      NaN   4/30/2019   \n",
       "439   YES ON 15 - SCHOOLS AND COMMUNITIES FIRST SPON...      NaN   3/27/2020   \n",
       "498   YES ON 15 - SCHOOLS AND COMMUNITIES FIRST SPON...      NaN  10/31/2019   \n",
       "634   YES ON 15 - SCHOOLS AND COMMUNITIES FIRST SPON...      NaN   9/24/2020   \n",
       "1112  YES ON 15 - SCHOOLS AND COMMUNITIES FIRST SPON...      NaN   7/31/2020   \n",
       "\n",
       "        id_number                                name_of_contributor  \\\n",
       "1     1.40586e+06     CHAN ZUCKERBERG ADVOCACY (NONPROFIT 501(C)(4))   \n",
       "7     1.40586e+06     CHAN ZUCKERBERG ADVOCACY (NONPROFIT 501(C)(4))   \n",
       "0             NaN                 CHAN ZUCKERBERG INSTITUTE ADVOCACY   \n",
       "1             NaN                CHAN ZUCKERBERG INITIATIVE ADVOCACY   \n",
       "3             NaN                CHAN ZUCKERBERG INITIATIVE ADVOCACY   \n",
       "6             NaN                CHAN ZUCKERBERG INITIATIVE ADVOCACY   \n",
       "7             NaN                CHAN ZUCKERBERG INITIATIVE ADVOCACY   \n",
       "420   1.40586e+06     CHAN ZUCKERBERG ADVOCACY (NONPROFIT 501(C)(4))   \n",
       "439   1.40586e+06     CHAN ZUCKERBERG ADVOCACY (NONPROFIT 501(C)(4))   \n",
       "498   1.40586e+06     CHAN ZUCKERBERG ADVOCACY (NONPROFIT 501(C)(4))   \n",
       "634   1.40586e+06  CHAN ZUCKERBERG INITIATIVE ADVOCACY - YES ON 1...   \n",
       "1112  1.40586e+06     CHAN ZUCKERBERG ADVOCACY (NONPROFIT 501(C)(4))   \n",
       "\n",
       "     occupation payment_type position state support transaction_date  \\\n",
       "1           NaN     MONETARY  support    CA     NaN        4/30/2020   \n",
       "7           NaN     MONETARY  support    CA     NaN        2/21/2019   \n",
       "0           NaN     MONETARY  support    CA     NaN        8/17/2020   \n",
       "1           NaN     MONETARY  support    CA     NaN        6/26/2020   \n",
       "3           NaN     MONETARY  support    CA     NaN        7/24/2020   \n",
       "6           NaN     MONETARY  support    CA     NaN        8/13/2020   \n",
       "7           NaN     MONETARY  support    CA     NaN        7/31/2020   \n",
       "420         NaN     MONETARY  support    CA     NaN        2/21/2019   \n",
       "439         NaN     MONETARY  support    CA     NaN         5/7/2019   \n",
       "498         NaN     MONETARY  support    CA     NaN        8/22/2019   \n",
       "634         NaN     MONETARY  support    CA     NaN        8/11/2020   \n",
       "1112        NaN     MONETARY  support    CA     NaN        4/30/2020   \n",
       "\n",
       "         transaction_number         zip  \n",
       "1     2486385 - VSH3JKXY7W3  94301-1546  \n",
       "7     2381380 - VSH3JHKJ094  94301-1546  \n",
       "0            2505547 - INC4       94063  \n",
       "1            2486497 - INC2       94063  \n",
       "3           2505228 - INC11       94063  \n",
       "6           2505228 - INC96       94063  \n",
       "7           2505228 - INC97       94063  \n",
       "420   2381375 - VVBNQHHDHM7  94301-1546  \n",
       "439   2400012 - VVBNQKJQFJ4  94301-1546  \n",
       "498   2420008 - VVBNQPHK7Q8  94301-1546  \n",
       "634   2506011 - VVBNQRJMMM7  94306-2515  \n",
       "1112  2487568 - VVBNQQWJ4C5  94301-1546  "
      ]
     },
     "execution_count": 55,
     "metadata": {},
     "output_type": "execute_result"
    }
   ],
   "source": [
    "zuck_contribs"
   ]
  },
  {
   "cell_type": "code",
   "execution_count": 56,
   "metadata": {},
   "outputs": [
    {
     "data": {
      "text/plain": [
       "6904217"
      ]
     },
     "execution_count": 56,
     "metadata": {},
     "output_type": "execute_result"
    }
   ],
   "source": [
    "zuck_contribs.amount.sum()"
   ]
  },
  {
   "cell_type": "code",
   "execution_count": 57,
   "metadata": {},
   "outputs": [
    {
     "data": {
      "text/plain": [
       "STOP HIGHER TAXES COMMITTEE, SPONSORED BY FAMILY BUSINESS ASSOCIATION OF CALIFORNIA    21\n",
       "Name: committee_name, dtype: int64"
      ]
     },
     "execution_count": 57,
     "metadata": {},
     "output_type": "execute_result"
    }
   ],
   "source": [
    "committee_15.committee_name.value_counts()"
   ]
  },
  {
   "cell_type": "code",
   "execution_count": 58,
   "metadata": {},
   "outputs": [
    {
     "data": {
      "text/html": [
       "<div>\n",
       "<style scoped>\n",
       "    .dataframe tbody tr th:only-of-type {\n",
       "        vertical-align: middle;\n",
       "    }\n",
       "\n",
       "    .dataframe tbody tr th {\n",
       "        vertical-align: top;\n",
       "    }\n",
       "\n",
       "    .dataframe thead th {\n",
       "        text-align: right;\n",
       "    }\n",
       "</style>\n",
       "<table border=\"1\" class=\"dataframe\">\n",
       "  <thead>\n",
       "    <tr style=\"text-align: right;\">\n",
       "      <th></th>\n",
       "      <th>name_of_contributor</th>\n",
       "      <th>amount</th>\n",
       "    </tr>\n",
       "  </thead>\n",
       "  <tbody>\n",
       "    <tr>\n",
       "      <th>0</th>\n",
       "      <td>AARON COWDIN</td>\n",
       "      <td>100</td>\n",
       "    </tr>\n",
       "    <tr>\n",
       "      <th>1</th>\n",
       "      <td>AARON HEBERT</td>\n",
       "      <td>350</td>\n",
       "    </tr>\n",
       "    <tr>\n",
       "      <th>2</th>\n",
       "      <td>ABBY SHER</td>\n",
       "      <td>250</td>\n",
       "    </tr>\n",
       "    <tr>\n",
       "      <th>3</th>\n",
       "      <td>ABEL VALENZUELA</td>\n",
       "      <td>500</td>\n",
       "    </tr>\n",
       "    <tr>\n",
       "      <th>4</th>\n",
       "      <td>ADA HORWICH</td>\n",
       "      <td>150</td>\n",
       "    </tr>\n",
       "    <tr>\n",
       "      <th>5</th>\n",
       "      <td>ADAM GUNTHER</td>\n",
       "      <td>35000</td>\n",
       "    </tr>\n",
       "    <tr>\n",
       "      <th>6</th>\n",
       "      <td>ADAM LITLE</td>\n",
       "      <td>250</td>\n",
       "    </tr>\n",
       "    <tr>\n",
       "      <th>7</th>\n",
       "      <td>ADELE ANDRADE</td>\n",
       "      <td>100</td>\n",
       "    </tr>\n",
       "    <tr>\n",
       "      <th>8</th>\n",
       "      <td>AFT GUILD LOCAL 1931-COPE</td>\n",
       "      <td>15000</td>\n",
       "    </tr>\n",
       "    <tr>\n",
       "      <th>9</th>\n",
       "      <td>ALAN FRIEDENBERG</td>\n",
       "      <td>75</td>\n",
       "    </tr>\n",
       "  </tbody>\n",
       "</table>\n",
       "</div>"
      ],
      "text/plain": [
       "         name_of_contributor  amount\n",
       "0               AARON COWDIN     100\n",
       "1               AARON HEBERT     350\n",
       "2                  ABBY SHER     250\n",
       "3            ABEL VALENZUELA     500\n",
       "4                ADA HORWICH     150\n",
       "5               ADAM GUNTHER   35000\n",
       "6                 ADAM LITLE     250\n",
       "7              ADELE ANDRADE     100\n",
       "8  AFT GUILD LOCAL 1931-COPE   15000\n",
       "9           ALAN FRIEDENBERG      75"
      ]
     },
     "execution_count": 58,
     "metadata": {},
     "output_type": "execute_result"
    }
   ],
   "source": [
    "top_supporters.head(10)"
   ]
  },
  {
   "cell_type": "code",
   "execution_count": 59,
   "metadata": {},
   "outputs": [
    {
     "data": {
      "text/html": [
       "\n",
       "<div id=\"altair-viz-aba48bab42ee41ac900b3510b615314d\"></div>\n",
       "<script type=\"text/javascript\">\n",
       "  (function(spec, embedOpt){\n",
       "    let outputDiv = document.currentScript.previousElementSibling;\n",
       "    if (outputDiv.id !== \"altair-viz-aba48bab42ee41ac900b3510b615314d\") {\n",
       "      outputDiv = document.getElementById(\"altair-viz-aba48bab42ee41ac900b3510b615314d\");\n",
       "    }\n",
       "    const paths = {\n",
       "      \"vega\": \"https://cdn.jsdelivr.net/npm//vega@5?noext\",\n",
       "      \"vega-lib\": \"https://cdn.jsdelivr.net/npm//vega-lib?noext\",\n",
       "      \"vega-lite\": \"https://cdn.jsdelivr.net/npm//vega-lite@4.8.1?noext\",\n",
       "      \"vega-embed\": \"https://cdn.jsdelivr.net/npm//vega-embed@6?noext\",\n",
       "    };\n",
       "\n",
       "    function loadScript(lib) {\n",
       "      return new Promise(function(resolve, reject) {\n",
       "        var s = document.createElement('script');\n",
       "        s.src = paths[lib];\n",
       "        s.async = true;\n",
       "        s.onload = () => resolve(paths[lib]);\n",
       "        s.onerror = () => reject(`Error loading script: ${paths[lib]}`);\n",
       "        document.getElementsByTagName(\"head\")[0].appendChild(s);\n",
       "      });\n",
       "    }\n",
       "\n",
       "    function showError(err) {\n",
       "      outputDiv.innerHTML = `<div class=\"error\" style=\"color:red;\">${err}</div>`;\n",
       "      throw err;\n",
       "    }\n",
       "\n",
       "    function displayChart(vegaEmbed) {\n",
       "      vegaEmbed(outputDiv, spec, embedOpt)\n",
       "        .catch(err => showError(`Javascript Error: ${err.message}<br>This usually means there's a typo in your chart specification. See the javascript console for the full traceback.`));\n",
       "    }\n",
       "\n",
       "    if(typeof define === \"function\" && define.amd) {\n",
       "      requirejs.config({paths});\n",
       "      require([\"vega-embed\"], displayChart, err => showError(`Error loading script: ${err.message}`));\n",
       "    } else if (typeof vegaEmbed === \"function\") {\n",
       "      displayChart(vegaEmbed);\n",
       "    } else {\n",
       "      loadScript(\"vega\")\n",
       "        .then(() => loadScript(\"vega-lite\"))\n",
       "        .then(() => loadScript(\"vega-embed\"))\n",
       "        .catch(showError)\n",
       "        .then(() => displayChart(vegaEmbed));\n",
       "    }\n",
       "  })({\"config\": {\"view\": {\"continuousWidth\": 400, \"continuousHeight\": 300}}, \"data\": {\"name\": \"data-d0284c3da591d14777d50b831bbaaa13\"}, \"mark\": \"bar\", \"encoding\": {\"x\": {\"type\": \"quantitative\", \"field\": \"amount\"}, \"y\": {\"type\": \"nominal\", \"field\": \"name_of_contributor\"}}, \"title\": \"Top contributors for split roll ballot measure\", \"$schema\": \"https://vega.github.io/schema/vega-lite/v4.8.1.json\", \"datasets\": {\"data-d0284c3da591d14777d50b831bbaaa13\": [{\"name_of_contributor\": \"AARON COWDIN\", \"amount\": 100}, {\"name_of_contributor\": \"AARON HEBERT\", \"amount\": 350}, {\"name_of_contributor\": \"ABBY SHER\", \"amount\": 250}, {\"name_of_contributor\": \"ABEL VALENZUELA\", \"amount\": 500}, {\"name_of_contributor\": \"ADA HORWICH\", \"amount\": 150}, {\"name_of_contributor\": \"ADAM GUNTHER\", \"amount\": 35000}, {\"name_of_contributor\": \"ADAM LITLE\", \"amount\": 250}, {\"name_of_contributor\": \"ADELE ANDRADE\", \"amount\": 100}, {\"name_of_contributor\": \"AFT GUILD LOCAL 1931-COPE\", \"amount\": 15000}, {\"name_of_contributor\": \"ALAN FRIEDENBERG\", \"amount\": 75}]}}, {\"mode\": \"vega-lite\"});\n",
       "</script>"
      ],
      "text/plain": [
       "alt.Chart(...)"
      ]
     },
     "execution_count": 59,
     "metadata": {},
     "output_type": "execute_result"
    }
   ],
   "source": [
    "alt.Chart(top_supporters.head(10)).mark_bar().encode(\n",
    "    x=\"amount\",\n",
    "    y=\"name_of_contributor\"\n",
    ").properties(\n",
    "    title = \"Top contributors for split roll ballot measure\")"
   ]
  },
  {
   "cell_type": "code",
   "execution_count": 60,
   "metadata": {},
   "outputs": [],
   "source": [
    "top_supporters.head(10).to_csv(\"top_supporters.csv\")"
   ]
  },
  {
   "cell_type": "code",
   "execution_count": 61,
   "metadata": {},
   "outputs": [],
   "source": [
    "## League of Women voters contribus"
   ]
  },
  {
   "cell_type": "code",
   "execution_count": 62,
   "metadata": {},
   "outputs": [
    {
     "ename": "ValueError",
     "evalue": "Cannot mask with non-boolean array containing NA / NaN values",
     "output_type": "error",
     "traceback": [
      "\u001b[0;31m---------------------------------------------------------------------------\u001b[0m",
      "\u001b[0;31mValueError\u001b[0m                                Traceback (most recent call last)",
      "\u001b[0;32m<ipython-input-62-2a533dcee22c>\u001b[0m in \u001b[0;36m<module>\u001b[0;34m\u001b[0m\n\u001b[0;32m----> 1\u001b[0;31m \u001b[0mlowv_contribs\u001b[0m \u001b[0;34m=\u001b[0m \u001b[0mcontribs\u001b[0m\u001b[0;34m[\u001b[0m\u001b[0mcontribs\u001b[0m\u001b[0;34m.\u001b[0m\u001b[0mcommittee_name\u001b[0m\u001b[0;34m.\u001b[0m\u001b[0mstr\u001b[0m\u001b[0;34m.\u001b[0m\u001b[0mcontains\u001b[0m\u001b[0;34m(\u001b[0m\u001b[0;34m\"LEAGUE OF WOMEN VOTERS\"\u001b[0m\u001b[0;34m)\u001b[0m\u001b[0;34m]\u001b[0m\u001b[0;34m\u001b[0m\u001b[0;34m\u001b[0m\u001b[0m\n\u001b[0m",
      "\u001b[0;32m~/.local/share/virtualenvs/2020_ballot_measures-CjUSjjuI/lib/python3.8/site-packages/pandas/core/frame.py\u001b[0m in \u001b[0;36m__getitem__\u001b[0;34m(self, key)\u001b[0m\n\u001b[1;32m   2890\u001b[0m \u001b[0;34m\u001b[0m\u001b[0m\n\u001b[1;32m   2891\u001b[0m         \u001b[0;31m# Do we have a (boolean) 1d indexer?\u001b[0m\u001b[0;34m\u001b[0m\u001b[0;34m\u001b[0m\u001b[0;34m\u001b[0m\u001b[0m\n\u001b[0;32m-> 2892\u001b[0;31m         \u001b[0;32mif\u001b[0m \u001b[0mcom\u001b[0m\u001b[0;34m.\u001b[0m\u001b[0mis_bool_indexer\u001b[0m\u001b[0;34m(\u001b[0m\u001b[0mkey\u001b[0m\u001b[0;34m)\u001b[0m\u001b[0;34m:\u001b[0m\u001b[0;34m\u001b[0m\u001b[0;34m\u001b[0m\u001b[0m\n\u001b[0m\u001b[1;32m   2893\u001b[0m             \u001b[0;32mreturn\u001b[0m \u001b[0mself\u001b[0m\u001b[0;34m.\u001b[0m\u001b[0m_getitem_bool_array\u001b[0m\u001b[0;34m(\u001b[0m\u001b[0mkey\u001b[0m\u001b[0;34m)\u001b[0m\u001b[0;34m\u001b[0m\u001b[0;34m\u001b[0m\u001b[0m\n\u001b[1;32m   2894\u001b[0m \u001b[0;34m\u001b[0m\u001b[0m\n",
      "\u001b[0;32m~/.local/share/virtualenvs/2020_ballot_measures-CjUSjjuI/lib/python3.8/site-packages/pandas/core/common.py\u001b[0m in \u001b[0;36mis_bool_indexer\u001b[0;34m(key)\u001b[0m\n\u001b[1;32m    132\u001b[0m                 \u001b[0mna_msg\u001b[0m \u001b[0;34m=\u001b[0m \u001b[0;34m\"Cannot mask with non-boolean array containing NA / NaN values\"\u001b[0m\u001b[0;34m\u001b[0m\u001b[0;34m\u001b[0m\u001b[0m\n\u001b[1;32m    133\u001b[0m                 \u001b[0;32mif\u001b[0m \u001b[0misna\u001b[0m\u001b[0;34m(\u001b[0m\u001b[0mkey\u001b[0m\u001b[0;34m)\u001b[0m\u001b[0;34m.\u001b[0m\u001b[0many\u001b[0m\u001b[0;34m(\u001b[0m\u001b[0;34m)\u001b[0m\u001b[0;34m:\u001b[0m\u001b[0;34m\u001b[0m\u001b[0;34m\u001b[0m\u001b[0m\n\u001b[0;32m--> 134\u001b[0;31m                     \u001b[0;32mraise\u001b[0m \u001b[0mValueError\u001b[0m\u001b[0;34m(\u001b[0m\u001b[0mna_msg\u001b[0m\u001b[0;34m)\u001b[0m\u001b[0;34m\u001b[0m\u001b[0;34m\u001b[0m\u001b[0m\n\u001b[0m\u001b[1;32m    135\u001b[0m                 \u001b[0;32mreturn\u001b[0m \u001b[0;32mFalse\u001b[0m\u001b[0;34m\u001b[0m\u001b[0;34m\u001b[0m\u001b[0m\n\u001b[1;32m    136\u001b[0m             \u001b[0;32mreturn\u001b[0m \u001b[0;32mTrue\u001b[0m\u001b[0;34m\u001b[0m\u001b[0;34m\u001b[0m\u001b[0m\n",
      "\u001b[0;31mValueError\u001b[0m: Cannot mask with non-boolean array containing NA / NaN values"
     ]
    }
   ],
   "source": [
    "lowv_contribs = contribs[contribs.committee_name.str.contains(\"LEAGUE OF WOMEN VOTERS\")]"
   ]
  },
  {
   "cell_type": "code",
   "execution_count": null,
   "metadata": {},
   "outputs": [],
   "source": [
    "lowv_contribs.amount.sum()"
   ]
  },
  {
   "cell_type": "code",
   "execution_count": null,
   "metadata": {},
   "outputs": [],
   "source": [
    "agriculture = contribs[contribs.committee_name.str.contains(\"AGRICULT\")]"
   ]
  },
  {
   "cell_type": "code",
   "execution_count": null,
   "metadata": {},
   "outputs": [],
   "source": [
    "farmers = contribs[contribs.committee_name.str.contains(\"FARMER\")]"
   ]
  },
  {
   "cell_type": "code",
   "execution_count": null,
   "metadata": {},
   "outputs": [],
   "source": [
    "ag_industry = pd.concat([agriculture, farmers], sort=True)"
   ]
  },
  {
   "cell_type": "code",
   "execution_count": null,
   "metadata": {},
   "outputs": [],
   "source": [
    "ag_industry.amount.sum()"
   ]
  },
  {
   "cell_type": "code",
   "execution_count": null,
   "metadata": {},
   "outputs": [],
   "source": [
    "## The committees that raised the most"
   ]
  },
  {
   "cell_type": "code",
   "execution_count": null,
   "metadata": {},
   "outputs": [],
   "source": [
    "committee_totals = contribs.groupby(\"committee_name\").amount.sum().reset_index()"
   ]
  },
  {
   "cell_type": "code",
   "execution_count": null,
   "metadata": {},
   "outputs": [],
   "source": [
    "committee_totals.sort_values(\"amount\", ascending = False)"
   ]
  },
  {
   "cell_type": "markdown",
   "metadata": {},
   "source": [
    "## expenditures "
   ]
  },
  {
   "cell_type": "code",
   "execution_count": null,
   "metadata": {},
   "outputs": [],
   "source": [
    "expenditures_1 = pd.read_csv(\"expenditures_1.csv\")"
   ]
  },
  {
   "cell_type": "code",
   "execution_count": null,
   "metadata": {},
   "outputs": [],
   "source": [
    "expenditures_2 = pd.read_csv(\"expenditures_2.csv\")"
   ]
  },
  {
   "cell_type": "code",
   "execution_count": null,
   "metadata": {},
   "outputs": [],
   "source": [
    "expenditures_3 = pd.read_csv(\"expenditures_3.csv\")"
   ]
  },
  {
   "cell_type": "code",
   "execution_count": null,
   "metadata": {},
   "outputs": [],
   "source": [
    "expenditures_4 = pd.read_csv(\"expenditures_4.csv\")"
   ]
  },
  {
   "cell_type": "code",
   "execution_count": null,
   "metadata": {},
   "outputs": [],
   "source": [
    "expenditures_5 = pd.read_csv(\"expenditures_5.csv\")"
   ]
  },
  {
   "cell_type": "code",
   "execution_count": null,
   "metadata": {},
   "outputs": [],
   "source": [
    "expenditures_6 = pd.read_csv(\"expenditures_6.csv\")"
   ]
  },
  {
   "cell_type": "code",
   "execution_count": null,
   "metadata": {},
   "outputs": [],
   "source": [
    "expenditures_7 = pd.read_csv(\"expenditures_7.csv\")"
   ]
  },
  {
   "cell_type": "code",
   "execution_count": null,
   "metadata": {},
   "outputs": [],
   "source": [
    "expenditures_8 = pd.read_csv(\"expenditures_8.csv\")"
   ]
  },
  {
   "cell_type": "code",
   "execution_count": null,
   "metadata": {},
   "outputs": [],
   "source": [
    "expenditures_9 = pd.read_csv(\"expenditures_9.csv\")"
   ]
  },
  {
   "cell_type": "code",
   "execution_count": null,
   "metadata": {},
   "outputs": [],
   "source": [
    "expenditures_10 = pd.read_csv(\"expenditures_10.csv\")"
   ]
  },
  {
   "cell_type": "code",
   "execution_count": null,
   "metadata": {},
   "outputs": [],
   "source": [
    "expenditures_11 = pd.read_csv(\"expenditures_11.csv\")"
   ]
  },
  {
   "cell_type": "code",
   "execution_count": null,
   "metadata": {},
   "outputs": [],
   "source": [
    "expenditures_12 = pd.read_csv(\"expenditures_12.csv\")"
   ]
  },
  {
   "cell_type": "code",
   "execution_count": null,
   "metadata": {},
   "outputs": [],
   "source": [
    "expenditures = pd.concat([expenditures_1, expenditures_2, expenditures_3, expenditures_4, expenditures_5, expenditures_6, expenditures_7, expenditures_8, expenditures_9, expenditures_10, expenditures_11, expenditures_12], sort=True)"
   ]
  },
  {
   "cell_type": "code",
   "execution_count": null,
   "metadata": {},
   "outputs": [],
   "source": [
    "supporting_expenditures = expenditures[expenditures.position == \"support\"]"
   ]
  },
  {
   "cell_type": "code",
   "execution_count": null,
   "metadata": {},
   "outputs": [],
   "source": [
    "supporting_expenditures.amount.sum()"
   ]
  },
  {
   "cell_type": "code",
   "execution_count": null,
   "metadata": {},
   "outputs": [],
   "source": [
    "opposing_expenditures = expenditures[expenditures.position == \"oppose\"]"
   ]
  },
  {
   "cell_type": "code",
   "execution_count": null,
   "metadata": {},
   "outputs": [],
   "source": [
    "opposing_expenditures.amount.sum()"
   ]
  },
  {
   "cell_type": "code",
   "execution_count": null,
   "metadata": {},
   "outputs": [],
   "source": [
    "expenditures.groupby(\"position\").amount.sum().reset_index()"
   ]
  },
  {
   "cell_type": "code",
   "execution_count": null,
   "metadata": {},
   "outputs": [],
   "source": []
  }
 ],
 "metadata": {
  "kernelspec": {
   "display_name": "Python 3",
   "language": "python",
   "name": "python3"
  },
  "language_info": {
   "codemirror_mode": {
    "name": "ipython",
    "version": 3
   },
   "file_extension": ".py",
   "mimetype": "text/x-python",
   "name": "python",
   "nbconvert_exporter": "python",
   "pygments_lexer": "ipython3",
   "version": "3.8.5"
  }
 },
 "nbformat": 4,
 "nbformat_minor": 4
}
